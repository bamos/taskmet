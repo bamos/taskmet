{
 "cells": [
  {
   "cell_type": "code",
   "execution_count": 1,
   "metadata": {},
   "outputs": [],
   "source": [
    "from train import Workspace\n",
    "import numpy as np\n",
    "import jax.numpy as jnp\n",
    "import os\n",
    "import sys\n",
    "os.environ['CUDA_VISIBLE_DEVICES'] = ''\n",
    "from absl import flags\n",
    "import jax\n",
    "\n",
    "def wrapper(cfg):\n",
    "  FLAGS = flags.FLAGS\n",
    "  FLAGS(sys.argv)\n",
    "  for k, v in cfg.items():\n",
    "    if k in FLAGS:\n",
    "      FLAGS[k].value = v\n",
    "  return "
   ]
  },
  {
   "cell_type": "code",
   "execution_count": 34,
   "metadata": {},
   "outputs": [],
   "source": [
    "file_path = \"/private/home/dishank/project/metric-learning/omd/cartpole/exp/upper-bound-final-dim16/metric/1/11000.pkl\"\n",
    "workspace = Workspace.load(file_path)\n",
    "# wrapper(workspace.cfg)"
   ]
  },
  {
   "cell_type": "code",
   "execution_count": 35,
   "metadata": {},
   "outputs": [
    {
     "name": "stdout",
     "output_type": "stream",
     "text": [
      "11000\n",
      "FlatMap({\n",
      "  '~': FlatMap({\n",
      "         'metric': array([ 0.98761904,  1.4647228 ,  2.0648248 ,  1.5877032 , -0.03086825,\n",
      "                           0.2044085 , -0.08638816,  0.5097961 ,  0.10341322,  0.01483209,\n",
      "                           0.03533409,  0.10250638,  0.18648902,  0.28268078,  0.7846827 ,\n",
      "                           0.3682869 , -0.22789499,  0.35097644,  0.24689837,  0.22566356],\n",
      "                         dtype=float32),\n",
      "       }),\n",
      "})\n",
      "[1.3042256  1.672665   2.1842425  1.7736802  0.6778321  0.80056524\n",
      " 0.65088564 0.980186   0.74618995 0.7005907  0.71097034 0.74571323\n",
      " 0.7907326  0.84444296 1.1605573  0.8941501  0.58567774 0.8839551\n",
      " 0.82419693 0.81233096]\n"
     ]
    }
   ],
   "source": [
    "print(workspace.step)\n",
    "print(workspace.agent.params_metric)\n",
    "metric = workspace.agent.params_metric['~']['metric']\n",
    "metric = jax.nn.softplus(metric)\n",
    "# metric = metric/jnp.linalg.norm(metric)*2\n",
    "print(metric)\n",
    "# print(jax.nn.sigmoid(workspace.agent.params_metric['~']['metric']))\n",
    "# print(jnp.linalg.norm(workspace.agent.params_metric['~']['metric']/jnp.linalg.norm(workspace.agent.params_metric['~']['metric'])*2))\n",
    "# print(workspace.agent.params_metric['~']['metric']/jnp.linalg.norm(workspace.agent.params_metric['~']['metric'])*2)\n",
    "# print(workspace.agent.metric.net.apply(workspace.agent.params_metric, jnp.ones((1, workspace.agent.obs_dim))))"
   ]
  },
  {
   "cell_type": "code",
   "execution_count": null,
   "metadata": {},
   "outputs": [],
   "source": []
  }
 ],
 "metadata": {
  "kernelspec": {
   "display_name": "venv",
   "language": "python",
   "name": "python3"
  },
  "language_info": {
   "codemirror_mode": {
    "name": "ipython",
    "version": 3
   },
   "file_extension": ".py",
   "mimetype": "text/x-python",
   "name": "python",
   "nbconvert_exporter": "python",
   "pygments_lexer": "ipython3",
   "version": "3.8.10"
  },
  "orig_nbformat": 4
 },
 "nbformat": 4,
 "nbformat_minor": 2
}
